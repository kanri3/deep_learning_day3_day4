{
  "nbformat": 4,
  "nbformat_minor": 0,
  "metadata": {
    "colab": {
      "name": "pytorch_hands_on_03.ipynb",
      "provenance": [],
      "collapsed_sections": [],
      "toc_visible": true,
      "include_colab_link": true
    },
    "kernelspec": {
      "name": "python3",
      "display_name": "Python 3"
    },
    "accelerator": "GPU"
  },
  "cells": [
    {
      "cell_type": "markdown",
      "metadata": {
        "id": "view-in-github",
        "colab_type": "text"
      },
      "source": [
        "<a href=\"https://colab.research.google.com/github/kanri3/deep_learning_day3_day4/blob/main/pytorch_hands_on_03.ipynb\" target=\"_parent\"><img src=\"https://colab.research.google.com/assets/colab-badge.svg\" alt=\"Open In Colab\"/></a>"
      ]
    },
    {
      "cell_type": "markdown",
      "metadata": {
        "id": "_W2oc9K0KxGz"
      },
      "source": [
        "# 第3回　PyTorchによるディープラーニング実装手順の基本"
      ]
    },
    {
      "cell_type": "markdown",
      "metadata": {
        "id": "rVfZeXrgYg7m"
      },
      "source": [
        "## ■（5）データセットとデーターローダー（DataLoader）"
      ]
    },
    {
      "cell_type": "markdown",
      "metadata": {
        "id": "iOb1W3i57oGe"
      },
      "source": [
        "「[第1回　初めてのニューラルネットワーク実装、まずは準備をしよう ― 仕組み理解×初実装（前編）：TensorFlow 2＋Keras（tf.keras）入門 - ＠IT](https://www.atmarkit.co.jp/ait/articles/1909/19/news026.html)」の記事と同じように、シンプルな座標点データを生成して使う。使い方は、前述の記事を参照してほしい。\n",
        "\n",
        "なお、座標点データは、「[ニューラルネットワーク Playground - Deep Insider](https://deepinsider.github.io/playground/)」（以下、Playground）と同じ生成仕様となっている。"
      ]
    },
    {
      "cell_type": "markdown",
      "metadata": {
        "id": "j2fU5kIiRher"
      },
      "source": [
        "### リスト5-1　座標点データの生成"
      ]
    },
    {
      "cell_type": "code",
      "metadata": {
        "id": "vnL886VJR-HB",
        "colab": {
          "base_uri": "https://localhost:8080/"
        },
        "outputId": "32346758-d5f7-4157-b51d-05e05140ae4d"
      },
      "source": [
        "# 座標点データを生成するライブラリのインストール\n",
        "!pip install playground-data"
      ],
      "execution_count": 1,
      "outputs": [
        {
          "output_type": "stream",
          "text": [
            "Collecting playground-data\n",
            "  Downloading playground-data-1.1.1.tar.gz (19 kB)\n",
            "Requirement already satisfied: numpy in /usr/local/lib/python3.7/dist-packages (from playground-data) (1.19.5)\n",
            "Requirement already satisfied: matplotlib in /usr/local/lib/python3.7/dist-packages (from playground-data) (3.2.2)\n",
            "Requirement already satisfied: kiwisolver>=1.0.1 in /usr/local/lib/python3.7/dist-packages (from matplotlib->playground-data) (1.3.1)\n",
            "Requirement already satisfied: python-dateutil>=2.1 in /usr/local/lib/python3.7/dist-packages (from matplotlib->playground-data) (2.8.2)\n",
            "Requirement already satisfied: pyparsing!=2.0.4,!=2.1.2,!=2.1.6,>=2.0.1 in /usr/local/lib/python3.7/dist-packages (from matplotlib->playground-data) (2.4.7)\n",
            "Requirement already satisfied: cycler>=0.10 in /usr/local/lib/python3.7/dist-packages (from matplotlib->playground-data) (0.10.0)\n",
            "Requirement already satisfied: six in /usr/local/lib/python3.7/dist-packages (from cycler>=0.10->matplotlib->playground-data) (1.15.0)\n",
            "Building wheels for collected packages: playground-data\n",
            "  Building wheel for playground-data (setup.py) ... \u001b[?25l\u001b[?25hdone\n",
            "  Created wheel for playground-data: filename=playground_data-1.1.1-py2.py3-none-any.whl size=20798 sha256=f250dd21a70b6a4854dc36298f83a6dec1a0ef153a14126091203b0f187c6174\n",
            "  Stored in directory: /root/.cache/pip/wheels/0a/83/26/9701478cd2f31df42fcc7d2cf0fa3fd6ff23cf8e44346166f3\n",
            "Successfully built playground-data\n",
            "Installing collected packages: playground-data\n",
            "Successfully installed playground-data-1.1.1\n"
          ],
          "name": "stdout"
        }
      ]
    },
    {
      "cell_type": "code",
      "metadata": {
        "id": "-M_-s3ooRmVd",
        "colab": {
          "base_uri": "https://localhost:8080/"
        },
        "outputId": "651696d7-ad89-4c54-f1f4-7023f4ec358e"
      },
      "source": [
        "# playground-dataライブラリのplygdataパッケージを「pg」という別名でインポート\n",
        "import plygdata as pg\n",
        "\n",
        "# 設定値を定数として定義\n",
        "PROBLEM_DATA_TYPE = pg.DatasetType.ClassifyCircleData # 問題種別：「分類（Classification）」、データ種別：「円（CircleData）」を選択\n",
        "TRAINING_DATA_RATIO = 0.5  # データの何％を訓練【Training】用に？ (残りは精度検証【Validation】用) ： 50％\n",
        "DATA_NOISE = 0.0           # ノイズ： 0％\n",
        "\n",
        "# 定義済みの定数を引数に指定して、データを生成する\n",
        "data_list = pg.generate_data(PROBLEM_DATA_TYPE, DATA_NOISE)\n",
        "\n",
        "# データを「訓練用」と「精度検証用」を指定の比率で分割し、さらにそれぞれを「データ（X）」と「教師ラベル（y）」に分ける\n",
        "X_train, y_train, X_valid, y_valid = pg.split_data(data_list, training_size=TRAINING_DATA_RATIO)\n",
        "\n",
        "# データ分割後の各変数の内容例として、それぞれ5件ずつ出力\n",
        "print('X_train:'); print(X_train[:5])\n",
        "print('y_train:'); print(y_train[:5])\n",
        "print('X_valid:'); print(X_valid[:5])\n",
        "print('y_valid:'); print(y_valid[:5])"
      ],
      "execution_count": 2,
      "outputs": [
        {
          "output_type": "stream",
          "text": [
            "X_train:\n",
            "[[-0.74603377 -0.83009882]\n",
            " [ 3.74373198 -0.43348149]\n",
            " [ 4.42617578  1.36991257]\n",
            " [-3.86253484 -0.64020839]\n",
            " [ 0.37063188  0.04299322]]\n",
            "y_train:\n",
            "[[ 1.]\n",
            " [-1.]\n",
            " [-1.]\n",
            " [-1.]\n",
            " [ 1.]]\n",
            "X_valid:\n",
            "[[ 2.60863208e-01 -1.56930102e+00]\n",
            " [ 1.31089532e-02 -3.94723588e+00]\n",
            " [-3.24950024e-03 -2.54868653e-01]\n",
            " [-1.27034655e+00 -3.87277236e+00]\n",
            " [ 2.06355786e-01  4.69248472e-01]]\n",
            "y_valid:\n",
            "[[ 1.]\n",
            " [-1.]\n",
            " [ 1.]\n",
            " [-1.]\n",
            " [ 1.]]\n"
          ],
          "name": "stdout"
        }
      ]
    },
    {
      "cell_type": "markdown",
      "metadata": {
        "id": "wYfp-w3t-BjX"
      },
      "source": [
        "### リスト5-2　データセットとデーターローダーの作成\n",
        "\n",
        "PyTorchにはミニバッチを簡単に扱うための`DataLoader`クラスが用意されている。このクラスを利用するには、既存のデータや教師ラベルといったテンソルを1つの`TensorDataset`にまとめる必要がある。"
      ]
    },
    {
      "cell_type": "code",
      "metadata": {
        "id": "s7Rj8ASo8ICO"
      },
      "source": [
        "# データ関連のユーティリティクラスをインポート\n",
        "from torch.utils.data import TensorDataset, DataLoader\n",
        "import torch       # ライブラリ「PyTorch」のtorchパッケージをインポート\n",
        "\n",
        "# 定数（学習方法設計時に必要となるもの）\n",
        "BATCH_SIZE = 15  # バッチサイズ： 15（Playgroundの選択肢は「1」～「30」）\n",
        "\n",
        "# NumPy多次元配列からテンソルに変換し、データ型は`float`に変換する\n",
        "t_X_train = torch.from_numpy(X_train).float()\n",
        "t_y_train = torch.from_numpy(y_train).float()\n",
        "t_X_valid = torch.from_numpy(X_valid).float()\n",
        "t_y_valid = torch.from_numpy(y_valid).float()\n",
        "\n",
        "# 「データ（X）」と「教師ラベル（y）」を、1つの「データセット（dataset）」にまとめる\n",
        "dataset_train = TensorDataset(t_X_train, t_y_train)  # 訓練用\n",
        "dataset_valid = TensorDataset(t_X_valid, t_y_valid)  # 精度検証用\n",
        "\n",
        "# ミニバッチを扱うための「データローダー（loader）」（訓練用と精度検証用）を作成\n",
        "loader_train = DataLoader(dataset_train, batch_size=BATCH_SIZE, shuffle=True)\n",
        "loader_valid = DataLoader(dataset_valid, batch_size=BATCH_SIZE)"
      ],
      "execution_count": 3,
      "outputs": []
    },
    {
      "cell_type": "markdown",
      "metadata": {
        "id": "wbevi-yv_iRg"
      },
      "source": [
        "このコードのポイント：\n",
        "- バッチサイズは学習時に扱うデータ単位であるが、`DataLoader`が「ミニバッチ」に関係するため、この段階で定義しておく必要がある\n",
        "- `DataLoader`クラスのコンストラクター引数`shuffle`で、データをシャッフルするか（**True**）しないか（**False**）を指定できる。今回はシャッフルしている"
      ]
    },
    {
      "cell_type": "markdown",
      "metadata": {
        "id": "mFwgzpvAOsQo"
      },
      "source": [
        "## ■（6）ディープニューラルネットのモデル定義"
      ]
    },
    {
      "cell_type": "markdown",
      "metadata": {
        "id": "_w3l4TB9CgvY"
      },
      "source": [
        "### リスト6-1　「1」か「-1」に分類するための「出力の離散化」\n",
        "- 今回のニューラルネットワークでは出力された確率値を、「**1**」か「**-1**」の2クラス分類値に離散化する\n",
        "  - 具体的には、0.0未満／0.0以上を-1.0／1.0にスケール変換する\n",
        "- そのための独自関数`discretize`を定義する\n",
        "- さらに、モデル内で扱いやすいように`torch.nn.Module`化も行っておく（※本稿では使用しない）\n",
        "- `discretize`関数は後述の「リスト7-3　1回分の「訓練（学習）」と「評価」の処理」で使用する"
      ]
    },
    {
      "cell_type": "code",
      "metadata": {
        "id": "nRN9Ox7UCtEf",
        "colab": {
          "base_uri": "https://localhost:8080/"
        },
        "outputId": "366f1395-fb5c-420b-cbdc-b25e3e6a1f5f"
      },
      "source": [
        "import torch       # ライブラリ「PyTorch」のtorchパッケージをインポート\n",
        "import torch.nn as nn  # 「ニューラルネットワーク」モジュールの別名定義\n",
        "\n",
        "# 離散化を行う単なる関数\n",
        "def discretize(proba):\n",
        "    '''\n",
        "    実数の確率値を「1」か「-1」の2クラス分類値に離散化する。\n",
        "    閾値は「0.0以上」か「未満」か。データ型は「torch.float」を想定。\n",
        "  \n",
        "    Examples:\n",
        "        >>> proba = torch.tensor([-0.5, 0.0, 0.5], dtype=torch.float)\n",
        "        >>> binary = discretize(proba)\n",
        "    '''\n",
        "    threshold = torch.Tensor([0.0]) # -1か1かを分ける閾値を作成\n",
        "    discretized = (proba >= threshold).float() # 閾値未満で0、以上で1に変換\n",
        "    return discretized * 2 - 1.0 # 2倍して-1.0することで、0／1を-1.0／1.0にスケール変換\n",
        "\n",
        "# discretize関数をモデルで簡単に使用できるようにするため、\n",
        "# PyTorchの「torch.nn.Module」を継承したクラスラッパーも作成した\n",
        "class Discretize(nn.Module):\n",
        "    '''\n",
        "    実数の確率値を「1」か「-1」の2クラス分類値に離散化する。\n",
        "    閾値は「0.0以上」か「未満」か。データ型は「torch.float」を想定。\n",
        "  \n",
        "    Examples:\n",
        "        >>> d = Discretize()\n",
        "        >>> proba = torch.tensor([-0.5, 0.0, 0.5], dtype=torch.float)\n",
        "        >>> binary = d(proba)\n",
        "    '''        \n",
        "    def __init__(self):\n",
        "        super().__init__()\n",
        "\n",
        "    # forward()メソッドは、基本クラス「torch.nn.Module」の__call__メソッドからも呼び出されるため、\n",
        "    # Discretizeオブジェクトを関数のように使える（例えば上記の「d(proba)」）\n",
        "    def forward(self, proba):\n",
        "        return discretize(proba) # 上記の関数を呼び出すだけ\n",
        "\n",
        "# 関数の利用をテスト\n",
        "proba = torch.tensor([-0.5, 0.0, 0.5], dtype=torch.float)  # 確率値の例\n",
        "binary = discretize(proba)  # 2クラス分類（binary classification）値に離散化\n",
        "binary  # tensor([-1.,  1.,  1.]) …… などと表示される"
      ],
      "execution_count": 4,
      "outputs": [
        {
          "output_type": "execute_result",
          "data": {
            "text/plain": [
              "tensor([-1.,  1.,  1.])"
            ]
          },
          "metadata": {},
          "execution_count": 4
        }
      ]
    },
    {
      "cell_type": "markdown",
      "metadata": {
        "id": "XFvuSutuCgfq"
      },
      "source": [
        "このコードのポイント：\n",
        "- PyTrochのニューラルネットワークの基本を解説する内容ではないので、ざっと流して読めば十分（コメントを参考にしてほしい）"
      ]
    },
    {
      "cell_type": "markdown",
      "metadata": {
        "id": "_VT16L_p1o1R"
      },
      "source": [
        "### リスト6-2　ディープニューラルネットワークのモデル設計\n",
        "- 入力の数（`INPUT_FEATURES`）は、$X_1$と$X_2$で**2つ**\n",
        "- 隠れ層のレイヤー数は、**2つ**\n",
        "  - 隠れ層にある1つ目のニューロンの数（`LAYER1_NEURONS`）は、**3つ**\n",
        "  - 隠れ層にある2つ目のニューロンの数（`LAYER2_NEURONS`）は、**3つ**\n",
        "- 出力層にあるニューロンの数（`OUTPUT_RESULTS`）は、**1つ**"
      ]
    },
    {
      "cell_type": "code",
      "metadata": {
        "id": "28aZTzo_lFGU",
        "colab": {
          "base_uri": "https://localhost:8080/"
        },
        "outputId": "9b153275-a57d-4ebe-ca6d-2258be8f4b14"
      },
      "source": [
        "import torch       # ライブラリ「PyTorch」のtorchパッケージをインポート\n",
        "import torch.nn as nn  # 「ニューラルネットワーク」モジュールの別名定義\n",
        "\n",
        "# 定数（モデル定義時に必要となるもの）\n",
        "INPUT_FEATURES = 2      # 入力（特徴）の数： 2\n",
        "LAYER1_NEURONS = 3      # ニューロンの数： 3\n",
        "LAYER2_NEURONS = 3      # ニューロンの数： 3\n",
        "OUTPUT_RESULTS = 1      # 出力結果の数： 1\n",
        "\n",
        "# 変数（モデル定義時に必要となるもの）\n",
        "activation1 = torch.nn.Tanh()  # 活性化関数（隠れ層用）： tanh関数（変更可能）\n",
        "activation2 = torch.nn.Tanh()  # 活性化関数（隠れ層用）： tanh関数（変更可能）\n",
        "acti_out = torch.nn.Tanh()     # 活性化関数（出力層用）： tanh関数（固定）\n",
        "\n",
        "# torch.nn.Moduleによるモデルの定義\n",
        "class NeuralNetwork(nn.Module):\n",
        "\n",
        "    # レイヤー（層）を定義\n",
        "    def __init__(self):\n",
        "        super(NeuralNetwork, self).__init__()\n",
        "\n",
        "        # 隠れ層：1つ目のレイヤー（layer）\n",
        "        self.layer1 = nn.Linear(\n",
        "            INPUT_FEATURES,                # 入力ユニット数（＝入力層）\n",
        "            LAYER1_NEURONS)                # 次のレイヤーへの出力ユニット数\n",
        "\n",
        "        # 隠れ層：2つ目のレイヤー（layer）\n",
        "        self.layer2 = nn.Linear(\n",
        "            LAYER1_NEURONS,                # 入力ユニット数\n",
        "            LAYER2_NEURONS)                # 次のレイヤーへの出力ユニット数\n",
        "\n",
        "        # 出力層\n",
        "        self.layer_out = nn.Linear(\n",
        "            LAYER2_NEURONS,                # 入力ユニット数\n",
        "            OUTPUT_RESULTS)                # 出力結果への出力ユニット数\n",
        "\n",
        "    # フォワードパスを定義\n",
        "    def forward(self, x):\n",
        "        # 「出力＝活性化関数（第n層（入力））」の形式で記述\n",
        "        x = activation1(self.layer1(x))  # 活性化関数は変数として定義\n",
        "        x = activation2(self.layer2(x))  # 同上\n",
        "        x = acti_out(self.layer_out(x))  # ※活性化関数は「tanh」固定\n",
        "        return x\n",
        "\n",
        "# モデル（NeuralNetworkクラス）のインスタンス化\n",
        "model = NeuralNetwork()\n",
        "model   # モデルの内容を出力"
      ],
      "execution_count": 5,
      "outputs": [
        {
          "output_type": "execute_result",
          "data": {
            "text/plain": [
              "NeuralNetwork(\n",
              "  (layer1): Linear(in_features=2, out_features=3, bias=True)\n",
              "  (layer2): Linear(in_features=3, out_features=3, bias=True)\n",
              "  (layer_out): Linear(in_features=3, out_features=1, bias=True)\n",
              ")"
            ]
          },
          "metadata": {},
          "execution_count": 5
        }
      ]
    },
    {
      "cell_type": "markdown",
      "metadata": {
        "id": "8smtM4J4F7x-"
      },
      "source": [
        "このコードのポイント：\n",
        "- 基本的な内容は、前掲の「リスト1-1　ニューロンのモデル設計」と同じ\n",
        "- 層が1つから、「隠れ層：2＋出力層：1」の3つに拡張されている\n",
        "- 例えば「LAYER1_NEURONS」に着目すると、1つ目のレイヤーにおける「出力ユニット数」であり、2つ目のレイヤーの「入力ユニット数」でもあるので、全く同じものが指定されている\n",
        "- フォワードプロパゲーション時のデータが変換されていく流れは、`forward`メソッド内に分かりやすく定義されている"
      ]
    },
    {
      "cell_type": "markdown",
      "metadata": {
        "id": "wiaaAwr4jDNG"
      },
      "source": [
        "## ■（7）学習／最適化（オプティマイザー）"
      ]
    },
    {
      "cell_type": "markdown",
      "metadata": {
        "id": "95b3Pe4uOhgx"
      },
      "source": [
        "### リスト7-1　オプティマイザー（最適化用オブジェクト）の作成"
      ]
    },
    {
      "cell_type": "code",
      "metadata": {
        "id": "mMaORFyxw31H"
      },
      "source": [
        "import torch.optim as optim   # 「最適化」モジュールの別名定義\n",
        "\n",
        "# 定数（学習方法設計時に必要となるもの）\n",
        "LEARNING_RATE = 0.03   # 学習率： 0.03\n",
        "REGULARIZATION = 0.03  # 正則化率： 0.03\n",
        "\n",
        "# オプティマイザーを作成（パラメーターと学習率も指定）\n",
        "optimizer = optim.SGD(           # 最適化アルゴリズムに「SGD」を選択\n",
        "    model.parameters(),          # 最適化で更新対象のパラメーター（重みやバイアス）\n",
        "    lr=LEARNING_RATE,            # 更新時の学習率\n",
        "    weight_decay=REGULARIZATION) # L2正則化（※不要な場合は0か省略）"
      ],
      "execution_count": 6,
      "outputs": []
    },
    {
      "cell_type": "markdown",
      "metadata": {
        "id": "SpjXYAQJYcHG"
      },
      "source": [
        "このコードのポイント：\n",
        "- この例では「SGD」（Stochastic Gradient Descent： 確率的勾配降下法）を選択\n",
        "- パラメーター（重みやバイアス）と、学習率、正則化率を引数に指定\n",
        "- 正則化（regularization）は「L2」に相当する。あまり使わない「L1」は基本機能に含まれていない\n",
        "- `torch.optim.SGD`を含めて以下が使用可能\n",
        "  - Adadelta\n",
        "  - Adagrad\n",
        "  - Adam（有名）\n",
        "  - AdamW\n",
        "  - SparseAdam\n",
        "  - Adamax\n",
        "  - ASGD\n",
        "  - LBFGS\n",
        "  - RMSprop\n",
        "  - Rprop\n",
        "  - SGD（確率的勾配降下法）"
      ]
    },
    {
      "cell_type": "markdown",
      "metadata": {
        "id": "K48EyWqY8QCw"
      },
      "source": [
        "### リスト7-2　損失関数の定義\n",
        "定義した損失関数は次のリスト7-3で利用する。"
      ]
    },
    {
      "cell_type": "code",
      "metadata": {
        "id": "X8luTeeRNBNi"
      },
      "source": [
        "# 変数（学習方法設計時に必要となるもの）\n",
        "criterion = nn.MSELoss()  # 損失関数：平均二乗誤差"
      ],
      "execution_count": 7,
      "outputs": []
    },
    {
      "cell_type": "markdown",
      "metadata": {
        "id": "o_Bj8n7PQmvf"
      },
      "source": [
        "このコードのポイント：\n",
        "- `criterion`は慣例の変数名。誤差からの損失を測る「基準（criterion）」を意味する\n",
        "- `nn.MSELoss`も含めて以外が使用可能\n",
        "  - L1Loss（MAE：Mean Absolute Error、平均絶対誤差）\n",
        "  - MSELoss（MSE：Mean Squared Error、平均二乗誤差）\n",
        "  - CrossEntropyLoss（交差エントロピー誤差： クラス分類）\n",
        "  - CTCLoss\n",
        "  - NLLLoss\n",
        "  - PoissonNLLLoss\n",
        "  - KLDivLoss\n",
        "  - BCELoss\n",
        "  - BCEWithLogitsLoss\n",
        "  - MarginRankingLoss\n",
        "  - HingeEmbeddingLoss\n",
        "  - MultiLabelMarginLoss\n",
        "  - SmoothL1Loss\n",
        "  - SoftMarginLoss\n",
        "  - MultiLabelSoftMarginLoss\n",
        "  - CosineEmbeddingLoss\n",
        "  - MultiMarginLoss\n",
        "  - TripletMarginLoss\n"
      ]
    },
    {
      "cell_type": "markdown",
      "metadata": {
        "id": "aehaIlYEhSWe"
      },
      "source": [
        "### リスト7-3　1回分の「訓練（学習）」と「評価」の処理\n",
        "`train_step`関数に訓練の内容を、`valid_step`関数に評価の内容を記述する。"
      ]
    },
    {
      "cell_type": "code",
      "metadata": {
        "id": "HC8RzeLxapFK"
      },
      "source": [
        "def train_step(train_X, train_y):\n",
        "    # 訓練モードに設定\n",
        "    model.train()\n",
        "\n",
        "    # フォワードプロパゲーションで出力結果を取得\n",
        "    #train_X                # 入力データ\n",
        "    pred_y = model(train_X) # 出力結果\n",
        "    #train_y                # 正解ラベル\n",
        "\n",
        "    # 出力結果と正解ラベルから損失を計算し、勾配を求める\n",
        "    optimizer.zero_grad()   # 勾配を0で初期化（※累積してしまうため要注意）\n",
        "    loss = criterion(pred_y, train_y)     # 誤差（出力結果と正解ラベルの差）から損失を取得\n",
        "    loss.backward()   # 逆伝播の処理として勾配を計算（自動微分）\n",
        "\n",
        "    # 勾配を使ってパラメーター（重みとバイアス）を更新\n",
        "    optimizer.step()  # 指定されたデータ分の最適化を実施\n",
        "\n",
        "    # 正解率を算出\n",
        "    with torch.no_grad(): # 勾配は計算しないモードにする\n",
        "        discr_y = discretize(pred_y)         # 確率値から「-1」／「1」に変換\n",
        "        acc = (discr_y == train_y).sum()     # 正解数を計算する\n",
        "\n",
        "    # 損失と正解数をタプルで返す\n",
        "    return (loss.item(), acc.item())  # ※item()=Pythonの数値\n",
        "\n",
        "def valid_step(valid_X, valid_y):\n",
        "    # 評価モードに設定（※dropoutなどの挙動が評価用になる）\n",
        "    model.eval()\n",
        "    \n",
        "    # フォワードプロパゲーションで出力結果を取得\n",
        "    #valid_X                # 入力データ\n",
        "    pred_y = model(valid_X) # 出力結果\n",
        "    #valid_y                # 正解ラベル\n",
        "\n",
        "    # 出力結果と正解ラベルから損失を計算\n",
        "    loss = criterion(pred_y, valid_y)     # 誤差（出力結果と正解ラベルの差）から損失を取得\n",
        "    # ※評価時は勾配を計算しない\n",
        "\n",
        "    # 正解率を算出\n",
        "    with torch.no_grad(): # 勾配は計算しないモードにする\n",
        "        discr_y = discretize(pred_y)     # 確率値から「-1」／「1」に変換\n",
        "        acc = (discr_y == valid_y).sum() # 正解数を合計する\n",
        "\n",
        "    # 損失と正解数をタプルで返す\n",
        "    return (loss.item(), acc.item())  # ※item()=Pythonの数値"
      ],
      "execution_count": 8,
      "outputs": []
    },
    {
      "cell_type": "markdown",
      "metadata": {
        "id": "fIkBn4GQiKaM"
      },
      "source": [
        "このコードのポイント：\n",
        "- `model.eval()`メソッドを呼び出すと、評価（推論）モードとなり、（今回は使っていないが）BatchNormやDropoutなどの挙動が評価用になる。通常は、訓練モード（`model.train()`メソッド）になっている\n",
        "- `train_step`関数の処理内容： 「訓練モードの設定」「フォワードプロパゲーションで出力結果の取得」「出力結果と正解ラベルから損失および勾配の計算」「勾配を使ってパラメーター（重みとバイアス）の更新」「正解率の算出」\n",
        "- `valid_step`関数の処理内容： 「評価モードの設定」「フォワードプロパゲーションで出力結果の取得」「出力結果と正解ラベルから損失の計算」「正解率の算出」\n",
        "- フォワードプロパゲーションは、前掲の「リスト2-1　フォワードプロパゲーションの実行と結果確認」で説明済み\n",
        "- `with torch.no_grad():`の配下のテンソル計算のコードには自動微分用の勾配が生成されなくなり、メモリ使用量軽減やスピードアップなどの効果がある\n",
        "- `discretize`関数は前掲の『リスト6-1　「1」か「-1」に分類するための「出力の離散化」』で説明した"
      ]
    },
    {
      "cell_type": "markdown",
      "metadata": {
        "id": "0w-uPfRo22UT"
      },
      "source": [
        "### リスト7-4　「訓練」と「評価」をバッチサイズ単位でエポック回繰り返す\n",
        "`train_step`関数で訓練を、`valid_step`関数で評価を実行する。早期終了は基本機能ではないので今回は説明しない。"
      ]
    },
    {
      "cell_type": "code",
      "metadata": {
        "id": "zG-yEd_qdETL",
        "colab": {
          "base_uri": "https://localhost:8080/"
        },
        "outputId": "c08e03df-588c-4111-80ff-8eaefc1eefe8"
      },
      "source": [
        "# パラメーター（重みやバイアス）の初期化を行う関数の定義\n",
        "def init_parameters(layer):\n",
        "    if type(layer) == nn.Linear:\n",
        "        nn.init.xavier_uniform_(layer.weight) # 重みを「一様分布のランダム値」に初期化\n",
        "        layer.bias.data.fill_(0.0)            # バイアスを「0」に初期化\n",
        "\n",
        "# 学習の前にパラメーター（重みやバイアス）を初期化する\n",
        "model.apply(init_parameters)\n",
        "\n",
        "# 定数（学習／評価時に必要となるもの）\n",
        "EPOCHS = 100             # エポック数： 100\n",
        "\n",
        "# 変数（学習／評価時に必要となるもの）\n",
        "avg_loss = 0.0           # 「訓練」用の平均「損失値」\n",
        "avg_acc = 0.0            # 「訓練」用の平均「正解率」\n",
        "avg_val_loss = 0.0       # 「評価」用の平均「損失値」\n",
        "avg_val_acc = 0.0        # 「評価」用の平均「正解率」\n",
        "\n",
        "# 損失の履歴を保存するための変数\n",
        "train_history = []\n",
        "valid_history = []\n",
        "\n",
        "for epoch in range(EPOCHS):\n",
        "    # forループ内で使う変数と、エポックごとの値リセット\n",
        "    total_loss = 0.0     # 「訓練」時における累計「損失値」\n",
        "    total_acc = 0.0      # 「訓練」時における累計「正解数」\n",
        "    total_val_loss = 0.0 # 「評価」時における累計「損失値」\n",
        "    total_val_acc = 0.0  # 「評価」時における累計「正解数」\n",
        "    total_train = 0      # 「訓練」時における累計「データ数」\n",
        "    total_valid = 0      # 「評価」時における累計「データ数」\n",
        "\n",
        "    for train_X, train_y in loader_train:\n",
        "        # 【重要】1ミニバッチ分の「訓練」を実行\n",
        "        loss, acc = train_step(train_X, train_y)\n",
        "\n",
        "        # 取得した損失値と正解率を累計値側に足していく\n",
        "        total_loss += loss          # 訓練用の累計損失値\n",
        "        total_acc += acc            # 訓練用の累計正解数\n",
        "        total_train += len(train_y) # 訓練データの累計数\n",
        "            \n",
        "    for valid_X, valid_y in loader_valid:\n",
        "        # 【重要】1ミニバッチ分の「評価（精度検証）」を実行\n",
        "        val_loss, val_acc = valid_step(valid_X, valid_y)\n",
        "\n",
        "        # 取得した損失値と正解率を累計値側に足していく\n",
        "        total_val_loss += val_loss  # 評価用の累計損失値\n",
        "        total_val_acc += val_acc    # 評価用の累計正解数\n",
        "        total_valid += len(valid_y) # 訓練データの累計数\n",
        "\n",
        "    # ミニバッチ単位で累計してきた損失値や正解率の平均を取る\n",
        "    n = epoch + 1                             # 処理済みのエポック数\n",
        "    avg_loss = total_loss / n                 # 訓練用の平均損失値\n",
        "    avg_acc = total_acc / total_train         # 訓練用の平均正解率\n",
        "    avg_val_loss = total_val_loss / n         # 訓練用の平均損失値\n",
        "    avg_val_acc = total_val_acc / total_valid # 訓練用の平均正解率\n",
        "\n",
        "    # グラフ描画のために損失の履歴を保存する\n",
        "    train_history.append(avg_loss)\n",
        "    valid_history.append(avg_val_loss)\n",
        "\n",
        "    # 損失や正解率などの情報を表示\n",
        "    print(f'[Epoch {epoch+1:3d}/{EPOCHS:3d}]' \\\n",
        "          f' loss: {avg_loss:.5f}, acc: {avg_acc:.5f}' \\\n",
        "          f' val_loss: {avg_val_loss:.5f}, val_acc: {avg_val_acc:.5f}')\n",
        "\n",
        "print('Finished Training')\n",
        "print(model.state_dict())  # 学習後のパラメーターの情報を表示"
      ],
      "execution_count": 9,
      "outputs": [
        {
          "output_type": "stream",
          "text": [
            "[Epoch   1/100] loss: 23.34139, acc: 0.55600 val_loss: 21.33415, val_acc: 0.51600\n",
            "[Epoch   2/100] loss: 8.22904, acc: 0.62400 val_loss: 7.45542, val_acc: 0.61600\n",
            "[Epoch   3/100] loss: 4.45735, acc: 0.75200 val_loss: 4.48767, val_acc: 0.62000\n",
            "[Epoch   4/100] loss: 3.05675, acc: 0.75600 val_loss: 3.03754, val_acc: 0.82000\n",
            "[Epoch   5/100] loss: 2.31982, acc: 0.80400 val_loss: 2.26824, val_acc: 0.84000\n",
            "[Epoch   6/100] loss: 1.79722, acc: 0.80800 val_loss: 1.88286, val_acc: 0.80800\n",
            "[Epoch   7/100] loss: 1.46185, acc: 0.80400 val_loss: 1.47902, val_acc: 0.83200\n",
            "[Epoch   8/100] loss: 1.24441, acc: 0.82400 val_loss: 1.28513, val_acc: 0.79600\n",
            "[Epoch   9/100] loss: 1.08174, acc: 0.83200 val_loss: 1.09602, val_acc: 0.80400\n",
            "[Epoch  10/100] loss: 0.93439, acc: 0.81600 val_loss: 0.99172, val_acc: 0.78800\n",
            "[Epoch  11/100] loss: 0.83930, acc: 0.80800 val_loss: 0.87471, val_acc: 0.80400\n",
            "[Epoch  12/100] loss: 0.76330, acc: 0.83200 val_loss: 0.74919, val_acc: 0.83200\n",
            "[Epoch  13/100] loss: 0.68704, acc: 0.83600 val_loss: 0.71381, val_acc: 0.80800\n",
            "[Epoch  14/100] loss: 0.63662, acc: 0.84000 val_loss: 0.62469, val_acc: 0.83200\n",
            "[Epoch  15/100] loss: 0.58445, acc: 0.84400 val_loss: 0.60019, val_acc: 0.81200\n",
            "[Epoch  16/100] loss: 0.54801, acc: 0.82400 val_loss: 0.52979, val_acc: 0.83200\n",
            "[Epoch  17/100] loss: 0.49548, acc: 0.85600 val_loss: 0.48871, val_acc: 0.84000\n",
            "[Epoch  18/100] loss: 0.45439, acc: 0.84800 val_loss: 0.45784, val_acc: 0.83200\n",
            "[Epoch  19/100] loss: 0.42289, acc: 0.85600 val_loss: 0.41723, val_acc: 0.84800\n",
            "[Epoch  20/100] loss: 0.40032, acc: 0.83600 val_loss: 0.39075, val_acc: 0.85200\n",
            "[Epoch  21/100] loss: 0.37330, acc: 0.85600 val_loss: 0.36712, val_acc: 0.84000\n",
            "[Epoch  22/100] loss: 0.35157, acc: 0.84000 val_loss: 0.34745, val_acc: 0.84400\n",
            "[Epoch  23/100] loss: 0.32433, acc: 0.86400 val_loss: 0.30599, val_acc: 0.85600\n",
            "[Epoch  24/100] loss: 0.28841, acc: 0.87600 val_loss: 0.28358, val_acc: 0.86000\n",
            "[Epoch  25/100] loss: 0.26422, acc: 0.87200 val_loss: 0.26110, val_acc: 0.87600\n",
            "[Epoch  26/100] loss: 0.23484, acc: 0.89600 val_loss: 0.22838, val_acc: 0.91600\n",
            "[Epoch  27/100] loss: 0.21056, acc: 0.92400 val_loss: 0.23808, val_acc: 0.90800\n",
            "[Epoch  28/100] loss: 0.18356, acc: 0.96000 val_loss: 0.17497, val_acc: 0.97200\n",
            "[Epoch  29/100] loss: 0.15848, acc: 0.99200 val_loss: 0.15377, val_acc: 0.97600\n",
            "[Epoch  30/100] loss: 0.14214, acc: 0.99200 val_loss: 0.13740, val_acc: 0.99600\n",
            "[Epoch  31/100] loss: 0.12530, acc: 0.99600 val_loss: 0.12658, val_acc: 1.00000\n",
            "[Epoch  32/100] loss: 0.11479, acc: 0.99600 val_loss: 0.11127, val_acc: 1.00000\n",
            "[Epoch  33/100] loss: 0.10132, acc: 0.99200 val_loss: 0.10347, val_acc: 0.98000\n",
            "[Epoch  34/100] loss: 0.09301, acc: 1.00000 val_loss: 0.09269, val_acc: 0.98400\n",
            "[Epoch  35/100] loss: 0.08557, acc: 0.99200 val_loss: 0.10042, val_acc: 0.98800\n",
            "[Epoch  36/100] loss: 0.08018, acc: 1.00000 val_loss: 0.08092, val_acc: 0.99200\n",
            "[Epoch  37/100] loss: 0.07566, acc: 0.99600 val_loss: 0.07566, val_acc: 0.99600\n",
            "[Epoch  38/100] loss: 0.06987, acc: 0.99600 val_loss: 0.07324, val_acc: 0.99600\n",
            "[Epoch  39/100] loss: 0.06564, acc: 0.99600 val_loss: 0.07011, val_acc: 1.00000\n",
            "[Epoch  40/100] loss: 0.06222, acc: 0.99600 val_loss: 0.06438, val_acc: 1.00000\n",
            "[Epoch  41/100] loss: 0.05972, acc: 1.00000 val_loss: 0.06185, val_acc: 1.00000\n",
            "[Epoch  42/100] loss: 0.05533, acc: 0.99600 val_loss: 0.06396, val_acc: 1.00000\n",
            "[Epoch  43/100] loss: 0.05425, acc: 0.99600 val_loss: 0.05648, val_acc: 1.00000\n",
            "[Epoch  44/100] loss: 0.05140, acc: 0.99600 val_loss: 0.05212, val_acc: 1.00000\n",
            "[Epoch  45/100] loss: 0.04870, acc: 0.99600 val_loss: 0.05120, val_acc: 1.00000\n",
            "[Epoch  46/100] loss: 0.04660, acc: 0.99600 val_loss: 0.04788, val_acc: 1.00000\n",
            "[Epoch  47/100] loss: 0.04387, acc: 1.00000 val_loss: 0.04592, val_acc: 1.00000\n",
            "[Epoch  48/100] loss: 0.04192, acc: 0.99600 val_loss: 0.04439, val_acc: 1.00000\n",
            "[Epoch  49/100] loss: 0.04055, acc: 0.99600 val_loss: 0.04525, val_acc: 1.00000\n",
            "[Epoch  50/100] loss: 0.03935, acc: 1.00000 val_loss: 0.04055, val_acc: 1.00000\n",
            "[Epoch  51/100] loss: 0.03822, acc: 1.00000 val_loss: 0.03917, val_acc: 1.00000\n",
            "[Epoch  52/100] loss: 0.03717, acc: 1.00000 val_loss: 0.04012, val_acc: 1.00000\n",
            "[Epoch  53/100] loss: 0.03672, acc: 0.99600 val_loss: 0.03816, val_acc: 1.00000\n",
            "[Epoch  54/100] loss: 0.03343, acc: 1.00000 val_loss: 0.03716, val_acc: 0.99600\n",
            "[Epoch  55/100] loss: 0.03384, acc: 0.99600 val_loss: 0.03461, val_acc: 1.00000\n",
            "[Epoch  56/100] loss: 0.03301, acc: 1.00000 val_loss: 0.03550, val_acc: 1.00000\n",
            "[Epoch  57/100] loss: 0.03149, acc: 1.00000 val_loss: 0.03310, val_acc: 1.00000\n",
            "[Epoch  58/100] loss: 0.03133, acc: 1.00000 val_loss: 0.03239, val_acc: 1.00000\n",
            "[Epoch  59/100] loss: 0.03070, acc: 0.99600 val_loss: 0.03649, val_acc: 1.00000\n",
            "[Epoch  60/100] loss: 0.02971, acc: 1.00000 val_loss: 0.03267, val_acc: 1.00000\n",
            "[Epoch  61/100] loss: 0.02820, acc: 0.99600 val_loss: 0.03131, val_acc: 1.00000\n",
            "[Epoch  62/100] loss: 0.02789, acc: 1.00000 val_loss: 0.02972, val_acc: 1.00000\n",
            "[Epoch  63/100] loss: 0.02797, acc: 1.00000 val_loss: 0.02926, val_acc: 1.00000\n",
            "[Epoch  64/100] loss: 0.02694, acc: 1.00000 val_loss: 0.02846, val_acc: 1.00000\n",
            "[Epoch  65/100] loss: 0.02648, acc: 1.00000 val_loss: 0.02737, val_acc: 1.00000\n",
            "[Epoch  66/100] loss: 0.02622, acc: 1.00000 val_loss: 0.02850, val_acc: 1.00000\n",
            "[Epoch  67/100] loss: 0.02465, acc: 1.00000 val_loss: 0.02661, val_acc: 1.00000\n",
            "[Epoch  68/100] loss: 0.02390, acc: 1.00000 val_loss: 0.02661, val_acc: 1.00000\n",
            "[Epoch  69/100] loss: 0.02443, acc: 1.00000 val_loss: 0.02650, val_acc: 1.00000\n",
            "[Epoch  70/100] loss: 0.02373, acc: 0.99600 val_loss: 0.02464, val_acc: 1.00000\n",
            "[Epoch  71/100] loss: 0.02372, acc: 1.00000 val_loss: 0.02463, val_acc: 1.00000\n",
            "[Epoch  72/100] loss: 0.02379, acc: 0.99600 val_loss: 0.02431, val_acc: 1.00000\n",
            "[Epoch  73/100] loss: 0.02263, acc: 1.00000 val_loss: 0.02449, val_acc: 1.00000\n",
            "[Epoch  74/100] loss: 0.02225, acc: 0.99600 val_loss: 0.02327, val_acc: 1.00000\n",
            "[Epoch  75/100] loss: 0.02167, acc: 1.00000 val_loss: 0.02335, val_acc: 1.00000\n",
            "[Epoch  76/100] loss: 0.02157, acc: 1.00000 val_loss: 0.02232, val_acc: 1.00000\n",
            "[Epoch  77/100] loss: 0.02080, acc: 1.00000 val_loss: 0.02235, val_acc: 1.00000\n",
            "[Epoch  78/100] loss: 0.02049, acc: 1.00000 val_loss: 0.02127, val_acc: 1.00000\n",
            "[Epoch  79/100] loss: 0.02016, acc: 1.00000 val_loss: 0.02296, val_acc: 1.00000\n",
            "[Epoch  80/100] loss: 0.01929, acc: 1.00000 val_loss: 0.02109, val_acc: 1.00000\n",
            "[Epoch  81/100] loss: 0.01947, acc: 0.99600 val_loss: 0.02209, val_acc: 1.00000\n",
            "[Epoch  82/100] loss: 0.01916, acc: 1.00000 val_loss: 0.02007, val_acc: 1.00000\n",
            "[Epoch  83/100] loss: 0.01897, acc: 1.00000 val_loss: 0.01956, val_acc: 1.00000\n",
            "[Epoch  84/100] loss: 0.01886, acc: 1.00000 val_loss: 0.01941, val_acc: 1.00000\n",
            "[Epoch  85/100] loss: 0.01804, acc: 1.00000 val_loss: 0.02340, val_acc: 1.00000\n",
            "[Epoch  86/100] loss: 0.01831, acc: 1.00000 val_loss: 0.01995, val_acc: 1.00000\n",
            "[Epoch  87/100] loss: 0.01817, acc: 1.00000 val_loss: 0.01914, val_acc: 1.00000\n",
            "[Epoch  88/100] loss: 0.01790, acc: 1.00000 val_loss: 0.01888, val_acc: 1.00000\n",
            "[Epoch  89/100] loss: 0.01775, acc: 1.00000 val_loss: 0.01864, val_acc: 1.00000\n",
            "[Epoch  90/100] loss: 0.01732, acc: 1.00000 val_loss: 0.01842, val_acc: 1.00000\n",
            "[Epoch  91/100] loss: 0.01690, acc: 1.00000 val_loss: 0.01753, val_acc: 1.00000\n",
            "[Epoch  92/100] loss: 0.01696, acc: 1.00000 val_loss: 0.01855, val_acc: 1.00000\n",
            "[Epoch  93/100] loss: 0.01653, acc: 1.00000 val_loss: 0.01804, val_acc: 1.00000\n",
            "[Epoch  94/100] loss: 0.01621, acc: 1.00000 val_loss: 0.01680, val_acc: 1.00000\n",
            "[Epoch  95/100] loss: 0.01646, acc: 1.00000 val_loss: 0.01667, val_acc: 1.00000\n",
            "[Epoch  96/100] loss: 0.01523, acc: 1.00000 val_loss: 0.01776, val_acc: 0.99600\n",
            "[Epoch  97/100] loss: 0.01649, acc: 0.99600 val_loss: 0.01655, val_acc: 1.00000\n",
            "[Epoch  98/100] loss: 0.01555, acc: 1.00000 val_loss: 0.01584, val_acc: 1.00000\n",
            "[Epoch  99/100] loss: 0.01549, acc: 1.00000 val_loss: 0.01575, val_acc: 1.00000\n",
            "[Epoch 100/100] loss: 0.01534, acc: 1.00000 val_loss: 0.01601, val_acc: 1.00000\n",
            "Finished Training\n",
            "OrderedDict([('layer1.weight', tensor([[-0.4816, -0.2574],\n",
            "        [ 0.0520, -0.5455],\n",
            "        [ 0.5311, -0.2319]])), ('layer1.bias', tensor([-1.0360,  0.9736, -1.0185])), ('layer2.weight', tensor([[-0.1287, -1.2505,  0.6586],\n",
            "        [ 0.1831, -0.3140,  0.1388],\n",
            "        [ 1.2934, -0.0693,  0.9491]])), ('layer2.bias', tensor([0.2445, 0.2515, 0.6265])), ('layer_out.weight', tensor([[-1.5046, -0.4190, -1.7195]])), ('layer_out.bias', tensor([-1.1955]))])\n"
          ],
          "name": "stdout"
        }
      ]
    },
    {
      "cell_type": "markdown",
      "metadata": {
        "id": "7F8wBgA6LYmk"
      },
      "source": [
        "このコードのポイント：\n",
        "- 重要なのは、「リスト7-3　1回分の「訓練（学習）」と「評価」の処理」で定義した`train_step`関数と`valid_step`関数の呼び出しだけである\n",
        "- 1つ目のforループでエポックを回している\n",
        "  - 2つ目のforループでバッチ単位分のデータを処理に渡している（ミニバッチ処理）\n",
        "- たくさんの変数があって長いが、どれも表示用の損失や正解率を計算するための処理であり、ニューラルネットワークの本質ではない"
      ]
    },
    {
      "cell_type": "markdown",
      "metadata": {
        "id": "Jz1U1sOTaDiN"
      },
      "source": [
        "## ■（8）評価／精度検証"
      ]
    },
    {
      "cell_type": "markdown",
      "metadata": {
        "id": "pl7Cau6jGqF6"
      },
      "source": [
        "### リスト8-1　損失値の推移グラフ描画"
      ]
    },
    {
      "cell_type": "code",
      "metadata": {
        "id": "aWlji88SdXpS",
        "colab": {
          "base_uri": "https://localhost:8080/",
          "height": 279
        },
        "outputId": "3ffea176-66bc-4e5f-ead6-486c1ad05402"
      },
      "source": [
        "import matplotlib.pyplot as plt\n",
        "\n",
        "# 学習結果（損失）のグラフを描画\n",
        "epochs = len(train_history)\n",
        "plt.plot(range(epochs), train_history, marker='.', label='loss (Training data)')\n",
        "plt.plot(range(epochs), valid_history, marker='.', label='loss (Validation data)')\n",
        "plt.legend(loc='best')\n",
        "plt.grid()\n",
        "plt.xlabel('epoch')\n",
        "plt.ylabel('loss')\n",
        "plt.show()"
      ],
      "execution_count": 10,
      "outputs": [
        {
          "output_type": "display_data",
          "data": {
            "image/png": "[encoded data removed]",
            "text/plain": [
              "<Figure size 432x288 with 1 Axes>"
            ]
          },
          "metadata": {
            "needs_background": "light"
          }
        }
      ]
    },
    {
      "cell_type": "markdown",
      "metadata": {
        "id": "0VSsuIVHLTn4"
      },
      "source": [
        "このコードのポイント：\n",
        "- `train_history`と`valid_history`は、前述の「リスト7-4　「訓練」と「評価」をバッチサイズ単位でエポック回繰り返す」で記録しておいた損失の履歴である\n",
        "- プロットする方法はいたって普通なので、特に本稿では説明しない"
      ]
    }
  ]
}