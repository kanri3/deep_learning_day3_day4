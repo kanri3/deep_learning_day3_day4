{
  "nbformat": 4,
  "nbformat_minor": 0,
  "metadata": {
    "kernelspec": {
      "display_name": "Python 3",
      "language": "python",
      "name": "python3"
    },
    "language_info": {
      "codemirror_mode": {
        "name": "ipython",
        "version": 3
      },
      "file_extension": ".py",
      "mimetype": "text/x-python",
      "name": "python",
      "nbconvert_exporter": "python",
      "pygments_lexer": "ipython3",
      "version": "3.6.3"
    },
    "colab": {
      "name": "3_3_predict_sin_hands_on.ipynb",
      "provenance": [],
      "collapsed_sections": [],
      "include_colab_link": true
    }
  },
  "cells": [
    {
      "cell_type": "markdown",
      "metadata": {
        "id": "view-in-github",
        "colab_type": "text"
      },
      "source": [
        "<a href=\"https://colab.research.google.com/github/kanri3/deep_learning_day3_day4/blob/main/3_3_predict_sin_hands_on.ipynb\" target=\"_parent\"><img src=\"https://colab.research.google.com/assets/colab-badge.svg\" alt=\"Open In Colab\"/></a>"
      ]
    },
    {
      "cell_type": "markdown",
      "metadata": {
        "id": "8cNl2QA_Rnv5"
      },
      "source": [
        "# 準備"
      ]
    },
    {
      "cell_type": "markdown",
      "metadata": {
        "id": "YkwjN1jNVAYy"
      },
      "source": [
        "## Googleドライブのマウント"
      ]
    },
    {
      "cell_type": "code",
      "metadata": {
        "id": "pvFXpiH3EVC1",
        "colab": {
          "base_uri": "https://localhost:8080/"
        },
        "outputId": "2106db77-b422-416b-b73e-009e2687805a"
      },
      "source": [
        "from google.colab import drive\n",
        "drive.mount('/content/drive')"
      ],
      "execution_count": null,
      "outputs": [
        {
          "output_type": "stream",
          "text": [
            "Drive already mounted at /content/drive; to attempt to forcibly remount, call drive.mount(\"/content/drive\", force_remount=True).\n"
          ],
          "name": "stdout"
        }
      ]
    },
    {
      "cell_type": "markdown",
      "metadata": {
        "id": "3Ub7RYdeY6pK"
      },
      "source": [
        "## sys.pathの設定"
      ]
    },
    {
      "cell_type": "markdown",
      "metadata": {
        "id": "oql7L19rEsWi"
      },
      "source": [
        "以下では，Googleドライブのマイドライブ直下にDNN_codeフォルダを置くことを仮定しています．必要に応じて，パスを変更してください．"
      ]
    },
    {
      "cell_type": "code",
      "metadata": {
        "id": "7Ic2JzkvFX59"
      },
      "source": [
        "import sys\n",
        "sys.path.append('/content/drive/My Drive/DNN_code')"
      ],
      "execution_count": null,
      "outputs": []
    },
    {
      "cell_type": "markdown",
      "metadata": {
        "id": "5NW-lqQTQir-"
      },
      "source": [
        "# predict sin\n",
        "\n",
        "---------------------------------------------------------------------------------------------------------------------------------------------------------------------------------------------\n",
        "### [try]\n",
        "-  iters_numを100にしよう\n",
        "-  maxlenを5, iters_numを500, 3000(※時間がかかる)にしよう\n",
        "---------------------------------------------------------------------------------------------------------------------------------------------------------------------------------------------"
      ]
    },
    {
      "cell_type": "code",
      "metadata": {
        "id": "bd8--ZQbQisA",
        "colab": {
          "base_uri": "https://localhost:8080/",
          "height": 445
        },
        "outputId": "e8678657-dfa2-432d-e891-04bb5a23ca17"
      },
      "source": [
        "import numpy as np\n",
        "from common import functions\n",
        "import matplotlib.pyplot as plt\n",
        "from sklearn.model_selection import train_test_split\n",
        "\n",
        "np.random.seed(0)\n",
        "\n",
        "# sin曲線\n",
        "round_num = 10\n",
        "div_num = 500\n",
        "ts = np.linspace(0, round_num * np.pi, div_num)\n",
        "f = np.sin(ts)\n",
        "\n",
        "def d_tanh(x):\n",
        "    return 1/(np.cosh(x)**2 + 1e-4)\n",
        "\n",
        "# ひとつの時系列データの長さ\n",
        "maxlen = 2\n",
        "\n",
        "# sin波予測の入力データ\n",
        "test_head = [[f[k]] for k in range(0, maxlen)]\n",
        "\n",
        "data = []\n",
        "target = []\n",
        "\n",
        "for i in range(div_num - maxlen):\n",
        "    data.append(f[i: i + maxlen])\n",
        "    target.append(f[i + maxlen])\n",
        "    \n",
        "X = np.array(data).reshape(len(data), maxlen, 1)\n",
        "D = np.array(target).reshape(len(data), 1)\n",
        "\n",
        "# データ設定\n",
        "N_train = int(len(data) * 0.8)\n",
        "N_validation = len(data) - N_train\n",
        "\n",
        "x_train, x_test, d_train, d_test = train_test_split(X, D, test_size=N_validation)\n",
        "\n",
        "input_layer_size = 1\n",
        "hidden_layer_size = 5\n",
        "output_layer_size = 1\n",
        "\n",
        "weight_init_std = 0.01\n",
        "learning_rate = 0.1\n",
        "\n",
        "iters_num = 300\n",
        "# iters_num = 500\n",
        "\n",
        "# ウェイト初期化 (バイアスは簡単のため省略)\n",
        "W_in = weight_init_std * np.random.randn(input_layer_size, hidden_layer_size)\n",
        "W_out = weight_init_std * np.random.randn(hidden_layer_size, output_layer_size)\n",
        "W = weight_init_std * np.random.randn(hidden_layer_size, hidden_layer_size)\n",
        "\n",
        "# 勾配\n",
        "W_in_grad = np.zeros_like(W_in)\n",
        "W_out_grad = np.zeros_like(W_out)\n",
        "W_grad = np.zeros_like(W)\n",
        "\n",
        "us = []\n",
        "zs = []\n",
        "\n",
        "u = np.zeros(hidden_layer_size)\n",
        "z = np.zeros(hidden_layer_size)\n",
        "y = np.zeros(output_layer_size)\n",
        "\n",
        "delta_out = np.zeros(output_layer_size)\n",
        "delta = np.zeros(hidden_layer_size)\n",
        "\n",
        "losses = []\n",
        "\n",
        "# トレーニング\n",
        "for i in range(iters_num):\n",
        "    for s in range(x_train.shape[0]):\n",
        "        us.clear()\n",
        "        zs.clear()\n",
        "        z *= 0\n",
        "        \n",
        "        # sにおける正解データ\n",
        "        d = d_train[s]\n",
        "\n",
        "        xs = x_train[s]        \n",
        "        \n",
        "        # 時系列ループ\n",
        "        for t in range(maxlen):\n",
        "            \n",
        "            # 入力値\n",
        "            x = xs[t]\n",
        "            u = np.dot(x, W_in) + np.dot(z, W)\n",
        "            us.append(u)\n",
        "            z = np.tanh(u)\n",
        "            zs.append(z)\n",
        "\n",
        "        y = np.dot(z, W_out)\n",
        "        \n",
        "        #誤差\n",
        "        loss = functions.mean_squared_error(d, y)\n",
        "        \n",
        "        delta_out = functions.d_mean_squared_error(d, y)\n",
        "        \n",
        "        delta *= 0\n",
        "        for t in range(maxlen)[::-1]:\n",
        "            \n",
        "            delta = (np.dot(delta, W.T) + np.dot(delta_out, W_out.T)) * d_tanh(us[t])\n",
        "            \n",
        "            # 勾配更新\n",
        "            W_grad += np.dot(zs[t].reshape(-1,1), delta.reshape(1,-1))\n",
        "            W_in_grad += np.dot(xs[t], delta.reshape(1,-1))\n",
        "        W_out_grad = np.dot(z.reshape(-1,1), delta_out)\n",
        "        \n",
        "        # 勾配適用\n",
        "        W -= learning_rate * W_grad\n",
        "        W_in -= learning_rate * W_in_grad\n",
        "        W_out -= learning_rate * W_out_grad.reshape(-1,1)\n",
        "            \n",
        "        W_in_grad *= 0\n",
        "        W_out_grad *= 0\n",
        "        W_grad *= 0\n",
        "\n",
        "# テスト        \n",
        "for s in range(x_test.shape[0]):\n",
        "    z *= 0\n",
        "\n",
        "    # sにおける正解データ\n",
        "    d = d_test[s]\n",
        "\n",
        "    xs = x_test[s]\n",
        "\n",
        "    # 時系列ループ\n",
        "    for t in range(maxlen):\n",
        "\n",
        "        # 入力値\n",
        "        x = xs[t]\n",
        "        u = np.dot(x, W_in) + np.dot(z, W)\n",
        "        z = np.tanh(u)\n",
        "\n",
        "    y = np.dot(z, W_out)\n",
        "\n",
        "    #誤差\n",
        "    loss = functions.mean_squared_error(d, y)\n",
        "    if s % 10 == 0:\n",
        "      print(s, 'loss:', loss, '   d:', d, '   y:', y)\n",
        "        \n",
        "        \n",
        "        \n",
        "original = np.full(maxlen, None)\n",
        "pred_num = 200\n",
        "\n",
        "xs = test_head\n",
        "\n",
        "# sin波予測\n",
        "for s in range(0, pred_num):\n",
        "    z *= 0\n",
        "    for t in range(maxlen):\n",
        "        \n",
        "        # 入力値\n",
        "        x = xs[t]\n",
        "        u = np.dot(x, W_in) + np.dot(z, W)\n",
        "        z = np.tanh(u)\n",
        "\n",
        "    y = np.dot(z, W_out)\n",
        "    original = np.append(original, y)\n",
        "    xs = np.delete(xs, 0)\n",
        "    xs = np.append(xs, y)\n",
        "\n",
        "plt.figure()\n",
        "plt.ylim([-1.5, 1.5])\n",
        "plt.plot(np.sin(np.linspace(0, round_num* pred_num / div_num * np.pi, pred_num)), linestyle='dotted', color='#aaaaaa')\n",
        "plt.plot(original, linestyle='dashed', color='black')\n",
        "plt.show()"
      ],
      "execution_count": null,
      "outputs": [
        {
          "output_type": "stream",
          "text": [
            "0 loss: 6.400554913461295e-07    d: [-0.47157024]    y: [-0.47270166]\n",
            "10 loss: 2.519274083210892e-07    d: [0.39789889]    y: [0.39860872]\n",
            "20 loss: 1.5657059774471962e-06    d: [0.44921588]    y: [0.45098546]\n",
            "30 loss: 2.018077097022776e-06    d: [-0.64813056]    y: [-0.65013957]\n",
            "40 loss: 4.329262087344701e-08    d: [0.99975723]    y: [1.00005149]\n",
            "50 loss: 1.1290738018676499e-07    d: [-0.75948523]    y: [-0.75901003]\n",
            "60 loss: 2.0213901280512264e-06    d: [-0.94789551]    y: [-0.94990618]\n",
            "70 loss: 9.354149663471122e-08    d: [0.35120641]    y: [0.35163894]\n",
            "80 loss: 2.3014107038179637e-06    d: [0.16296018]    y: [0.1651056]\n",
            "90 loss: 9.048861957161455e-08    d: [0.98714074]    y: [0.98671532]\n"
          ],
          "name": "stdout"
        },
        {
          "output_type": "display_data",
          "data": {
            "image/png": "[encoded data removed]",
            "text/plain": [
              "<Figure size 432x288 with 1 Axes>"
            ]
          },
          "metadata": {
            "needs_background": "light"
          }
        }
      ]
    }
  ]
}